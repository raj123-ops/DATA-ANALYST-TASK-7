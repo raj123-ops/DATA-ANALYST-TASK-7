{
 "cells": [
  {
   "cell_type": "code",
   "execution_count": 1,
   "id": "f5f909b7-2572-4d43-a1b7-1cc987209d25",
   "metadata": {},
   "outputs": [],
   "source": [
    "import sqlite3\n",
    "import pandas as pd\n",
    "import numpy as np\n",
    "import seaborn as sns\n",
    "import matplotlib.pyplot as plt"
   ]
  },
  {
   "cell_type": "code",
   "execution_count": 3,
   "id": "ec4a3c8f-56cc-4a43-a62b-cf60d03e8659",
   "metadata": {},
   "outputs": [
    {
     "data": {
      "text/html": [
       "<div>\n",
       "<style scoped>\n",
       "    .dataframe tbody tr th:only-of-type {\n",
       "        vertical-align: middle;\n",
       "    }\n",
       "\n",
       "    .dataframe tbody tr th {\n",
       "        vertical-align: top;\n",
       "    }\n",
       "\n",
       "    .dataframe thead th {\n",
       "        text-align: right;\n",
       "    }\n",
       "</style>\n",
       "<table border=\"1\" class=\"dataframe\">\n",
       "  <thead>\n",
       "    <tr style=\"text-align: right;\">\n",
       "      <th></th>\n",
       "      <th>customer</th>\n",
       "      <th>product</th>\n",
       "      <th>quantity</th>\n",
       "      <th>price</th>\n",
       "      <th>sale_date</th>\n",
       "    </tr>\n",
       "  </thead>\n",
       "  <tbody>\n",
       "    <tr>\n",
       "      <th>0</th>\n",
       "      <td>Julia Greene</td>\n",
       "      <td>Smartwatch</td>\n",
       "      <td>3</td>\n",
       "      <td>200</td>\n",
       "      <td>2025-01-23</td>\n",
       "    </tr>\n",
       "    <tr>\n",
       "      <th>1</th>\n",
       "      <td>Mr. Julian Mccullough DDS</td>\n",
       "      <td>Tablet</td>\n",
       "      <td>5</td>\n",
       "      <td>300</td>\n",
       "      <td>2025-06-18</td>\n",
       "    </tr>\n",
       "    <tr>\n",
       "      <th>2</th>\n",
       "      <td>Carlos Jenkins</td>\n",
       "      <td>Smartwatch</td>\n",
       "      <td>5</td>\n",
       "      <td>200</td>\n",
       "      <td>2025-01-02</td>\n",
       "    </tr>\n",
       "    <tr>\n",
       "      <th>3</th>\n",
       "      <td>Bonnie Gardner</td>\n",
       "      <td>Headphones</td>\n",
       "      <td>2</td>\n",
       "      <td>100</td>\n",
       "      <td>2025-03-19</td>\n",
       "    </tr>\n",
       "    <tr>\n",
       "      <th>4</th>\n",
       "      <td>Kim Lee</td>\n",
       "      <td>Smartwatch</td>\n",
       "      <td>1</td>\n",
       "      <td>200</td>\n",
       "      <td>2025-05-07</td>\n",
       "    </tr>\n",
       "  </tbody>\n",
       "</table>\n",
       "</div>"
      ],
      "text/plain": [
       "                    customer     product  quantity  price   sale_date\n",
       "0               Julia Greene  Smartwatch         3    200  2025-01-23\n",
       "1  Mr. Julian Mccullough DDS      Tablet         5    300  2025-06-18\n",
       "2             Carlos Jenkins  Smartwatch         5    200  2025-01-02\n",
       "3             Bonnie Gardner  Headphones         2    100  2025-03-19\n",
       "4                    Kim Lee  Smartwatch         1    200  2025-05-07"
      ]
     },
     "execution_count": 3,
     "metadata": {},
     "output_type": "execute_result"
    }
   ],
   "source": [
    "df= pd.read_csv('realistic_sales_data.csv')\n",
    "df.head()"
   ]
  },
  {
   "cell_type": "code",
   "execution_count": 5,
   "id": "39ae7e03-814c-421f-b2ab-379424e80692",
   "metadata": {},
   "outputs": [],
   "source": [
    "conn=sqlite3.connect(\":memory:\")"
   ]
  },
  {
   "cell_type": "code",
   "execution_count": 7,
   "id": "8199f221-2b87-4a94-a1e8-a1b364ecd60e",
   "metadata": {},
   "outputs": [
    {
     "data": {
      "text/plain": [
       "100"
      ]
     },
     "execution_count": 7,
     "metadata": {},
     "output_type": "execute_result"
    }
   ],
   "source": [
    "df.to_sql(\"sales\",conn,index=False,if_exists=\"replace\")"
   ]
  },
  {
   "cell_type": "code",
   "execution_count": 9,
   "id": "00c37abe-d060-4402-b5d8-f2562589170a",
   "metadata": {},
   "outputs": [
    {
     "name": "stdout",
     "output_type": "stream",
     "text": [
      "      product  total_quantity  total_revenue\n",
      "0  Headphones              80           8000\n",
      "1      Laptop              61          42700\n",
      "2  Smartphone              75          37500\n",
      "3  Smartwatch              69          13800\n",
      "4      Tablet              27           8100\n"
     ]
    }
   ],
   "source": [
    "query=\"\"\"select product,\n",
    "sum(quantity) as total_quantity,\n",
    "sum(quantity*price) as total_revenue\n",
    "from sales\n",
    "group by product\n",
    "\"\"\"\n",
    "df_summary=pd.read_sql_query(query,conn)\n",
    "print(df_summary)"
   ]
  },
  {
   "cell_type": "code",
   "execution_count": 11,
   "id": "44dc1ac3-3779-4c59-a7b5-0bd93e39b41e",
   "metadata": {},
   "outputs": [
    {
     "data": {
      "image/png": "[encoded data removed]",
      "text/plain": [
       "<Figure size 640x480 with 1 Axes>"
      ]
     },
     "metadata": {},
     "output_type": "display_data"
    }
   ],
   "source": [
    "df_summary.plot(kind='bar', x='product', y='total_revenue', color='orange', legend= False)\n",
    "plt.title(\"Revenue by Product\")\n",
    "plt.ylabel(\"Total Revenue\")\n",
    "plt.tight_layout()\n",
    "plt.show()"
   ]
  },
  {
   "cell_type": "code",
   "execution_count": 13,
   "id": "c11a9280-d479-44ea-ab1d-7694bcb2db1a",
   "metadata": {},
   "outputs": [
    {
     "name": "stdout",
     "output_type": "stream",
     "text": [
      "           customer  total_aqty\n",
      "0    Aaron Cummings           3\n",
      "1  Alison Maldonado           2\n",
      "2   Allison Osborne           3\n",
      "3     Amanda Barber           2\n",
      "4          Amy Cook           5\n"
     ]
    }
   ],
   "source": [
    "query=\"\"\"\n",
    "select customer,sum(quantity)as total_aqty\n",
    "from sales\n",
    "group by customer\n",
    "\"\"\"\n",
    "df_customer_summary=pd.read_sql_query(query, conn)\n",
    "print(df_customer_summary.head())"
   ]
  },
  {
   "cell_type": "code",
   "execution_count": 15,
   "id": "d6359cb1-270b-4ae7-883a-97afd11f25fa",
   "metadata": {},
   "outputs": [
    {
     "name": "stdout",
     "output_type": "stream",
     "text": [
      "  month  revenue\n",
      "0  None   110100\n"
     ]
    }
   ],
   "source": [
    "query=\"\"\"\n",
    "select strftime('%y-%m', sale_date) as month,\n",
    "sum(quantity*price) as revenue \n",
    "from sales\n",
    "group by month\n",
    "order by month\n",
    "\"\"\"\n",
    "df_monthly_summary=pd.read_sql_query(query, conn)\n",
    "print(df_monthly_summary.head())"
   ]
  },
  {
   "cell_type": "code",
   "execution_count": 17,
   "id": "6196b016-008c-48b4-8a7d-0f923071a134",
   "metadata": {},
   "outputs": [
    {
     "name": "stdout",
     "output_type": "stream",
     "text": [
      "   avg_order_revenue\n",
      "0             1101.0\n"
     ]
    }
   ],
   "source": [
    "query=\"\"\"\n",
    "select avg(quantity* price ) as avg_order_revenue\n",
    "from sales\n",
    "\"\"\"\n",
    "df_customer_summary=pd.read_sql_query(query, conn)\n",
    "print(df_customer_summary.head())"
   ]
  },
  {
   "cell_type": "code",
   "execution_count": 29,
   "id": "3836f038-484f-4338-9925-046a58c32210",
   "metadata": {},
   "outputs": [
    {
     "name": "stdout",
     "output_type": "stream",
     "text": [
      "              customer     product  revenue\n",
      "0        Michael Lewis      Laptop     3500\n",
      "1          Paula Smith      Laptop     3500\n",
      "2        Timothy Smith      Laptop     3500\n",
      "3   Charles Montgomery      Laptop     2800\n",
      "4            Eric Ross      Laptop     2800\n",
      "..                 ...         ...      ...\n",
      "95       Marie Oconnor  Smartwatch      200\n",
      "96         Samuel Ford  Smartwatch      200\n",
      "97     Brandon Roberts  Headphones      100\n",
      "98       Cheryl Dunlap  Headphones      100\n",
      "99          Todd Yates  Headphones      100\n",
      "\n",
      "[100 rows x 3 columns]\n"
     ]
    }
   ],
   "source": [
    "query=\"\"\"\n",
    "select customer, product,\n",
    "sum( quantity * price) as revenue\n",
    "from sales\n",
    "group by customer, product\n",
    "order by revenue desc\n",
    "\"\"\"\n",
    "df_summary=pd.read_sql_query(query,conn)\n",
    "print(df_summary)"
   ]
  },
  {
   "cell_type": "code",
   "execution_count": 33,
   "id": "5e1b2a1d-7141-404d-a6cb-f05beca02f4b",
   "metadata": {},
   "outputs": [
    {
     "name": "stdout",
     "output_type": "stream",
     "text": [
      "  month product  revenue\n",
      "0  None  Laptop    42700\n"
     ]
    }
   ],
   "source": [
    "query=\"\"\"\n",
    "select month, product, revenue from(\n",
    "select strftime('%y-%m',\n",
    "Date(sale_date)) as month,\n",
    "product,\n",
    "sum( quantity * price) as revenue,\n",
    "rank() over (partition by strftime('%y-%m', Date(sale_date))\n",
    "order by sum(quantity * price)desc) as rnk\n",
    "from sales\n",
    "group by month, product)\n",
    "where rnk =1 \n",
    "\"\"\"\n",
    "df_summary=pd.read_sql_query(query,conn)\n",
    "print(df_summary)"
   ]
  },
  {
   "cell_type": "code",
   "execution_count": null,
   "id": "d0306578-e9fa-4d66-9f20-bc27508d185d",
   "metadata": {},
   "outputs": [],
   "source": []
  }
 ],
 "metadata": {
  "kernelspec": {
   "display_name": "Python [conda env:base] *",
   "language": "python",
   "name": "conda-base-py"
  },
  "language_info": {
   "codemirror_mode": {
    "name": "ipython",
    "version": 3
   },
   "file_extension": ".py",
   "mimetype": "text/x-python",
   "name": "python",
   "nbconvert_exporter": "python",
   "pygments_lexer": "ipython3",
   "version": "3.12.7"
  }
 },
 "nbformat": 4,
 "nbformat_minor": 5
}
